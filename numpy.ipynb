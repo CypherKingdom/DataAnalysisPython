{
 "cells": [
  {
   "cell_type": "code",
   "execution_count": 1,
   "id": "e4f4ae3a-20ea-45b9-a8f1-944fd651e49d",
   "metadata": {},
   "outputs": [
    {
     "name": "stdout",
     "output_type": "stream",
     "text": [
      "Matrix a:\n",
      " [[            0 2435949951248]\n",
      " [2435949951168 2435949953168]]\n",
      "Matrix b:\n",
      " [8367799594051972211 4208162443100185960]\n"
     ]
    }
   ],
   "source": [
    "# Array Initialization\n",
    "# numpy.empty(shape, dtype=float, order='C'), shape means dimension\n",
    "import numpy as np\n",
    "a = np.empty([2, 2], dtype = int)\n",
    "print(\"Matrix a:\\n\", a)\n",
    "b = np.empty(2, dtype = int)\n",
    "print(\"Matrix b:\\n\", b)\n",
    "# The contents of the array will be random, as they depend on the existing memory where the array is allocated."
   ]
  },
  {
   "cell_type": "code",
   "execution_count": 2,
   "id": "1af2ba1a-576d-492c-84b0-9efad41299cd",
   "metadata": {},
   "outputs": [
    {
     "name": "stdout",
     "output_type": "stream",
     "text": [
      "Matrix a:\n",
      " [[0 0]\n",
      " [0 0]]\n",
      "Matrix b:\n",
      " [0 0]\n",
      "Matrix c:\n",
      " [[0. 0. 0.]\n",
      " [0. 0. 0.]\n",
      " [0. 0. 0.]]\n"
     ]
    }
   ],
   "source": [
    "# numpy.zeros(shape, dtype = None, order = 'C)\n",
    "a = np.zeros([2, 2], dtype = int)\n",
    "print(\"Matrix a:\\n\", a)\n",
    "b = np.zeros(2, dtype = int)\n",
    "print(\"Matrix b:\\n\", b)\n",
    "c = np.zeros([3, 3])\n",
    "print(\"Matrix c:\\n\", c)"
   ]
  },
  {
   "cell_type": "code",
   "execution_count": 3,
   "id": "8e1b3dc5-34ee-4262-980f-3d8156e0aa7d",
   "metadata": {},
   "outputs": [
    {
     "name": "stdout",
     "output_type": "stream",
     "text": [
      "[  7  77  23 130]\n",
      "[  7  77  23 130]\n",
      "[  8  79  26 134]\n",
      "[  8  79  26 134]\n"
     ]
    }
   ],
   "source": [
    "# Addition\n",
    "a = np.array([5, 72, 13, 100])\n",
    "b = np.array([2, 5, 10, 30])\n",
    "add_ans = a+b\n",
    "print(add_ans)\n",
    "add_ans = np.add(a, b)\n",
    "print(add_ans)\n",
    "c = np.array([1, 2, 3, 4])\n",
    "add_ans = a+b+c\n",
    "print(add_ans)\n",
    "add_ans = np.add(np.add(a, b), c)\n",
    "print(add_ans)"
   ]
  },
  {
   "cell_type": "code",
   "execution_count": 4,
   "id": "f5921e76-2cf4-48b5-9286-f149bb4abbbb",
   "metadata": {},
   "outputs": [
    {
     "name": "stdout",
     "output_type": "stream",
     "text": [
      "[ 3 67  3 70]\n",
      "[ 3 67  3 70]\n",
      "[ 2 65  0 66]\n",
      "[ 2 65  0 66]\n"
     ]
    }
   ],
   "source": [
    "# Subtraction\n",
    "a = np.array([5, 72, 13, 100])\n",
    "b = np.array([2, 5, 10, 30])\n",
    "add_ans = a-b\n",
    "print(add_ans)\n",
    "add_ans = np.subtract(a, b)\n",
    "print(add_ans)\n",
    "c = np.array([1, 2, 3, 4])\n",
    "add_ans = a-b-c\n",
    "print(add_ans)\n",
    "add_ans = np.subtract(np.subtract(a, b), c)\n",
    "print(add_ans)"
   ]
  },
  {
   "cell_type": "code",
   "execution_count": 5,
   "id": "59ae3c02-11e4-4ec1-ab41-274f6498dfa1",
   "metadata": {},
   "outputs": [
    {
     "name": "stdout",
     "output_type": "stream",
     "text": [
      "[  10  360  130 3000]\n",
      "[  10  360  130 3000]\n"
     ]
    }
   ],
   "source": [
    "# Multiplication\n",
    "a = np.array([5, 72, 13, 100])\n",
    "b = np.array([2, 5, 10, 30])\n",
    "div_ans = a*b\n",
    "print(div_ans)\n",
    "div_ans = np.multiply(a, b)\n",
    "print(div_ans)"
   ]
  },
  {
   "cell_type": "code",
   "execution_count": 6,
   "id": "45f4871c-8106-4233-b995-62206814a38f",
   "metadata": {},
   "outputs": [
    {
     "name": "stdout",
     "output_type": "stream",
     "text": [
      "[ 2.5        14.4         1.3         3.33333333]\n",
      "[ 2.5        14.4         1.3         3.33333333]\n"
     ]
    }
   ],
   "source": [
    "# Division\n",
    "a = np.array([5, 72, 13, 100])\n",
    "b = np.array([2, 5, 10, 30])\n",
    "div_ans = a/b\n",
    "print(div_ans)\n",
    "div_ans = np.divide(a, b)\n",
    "print(div_ans)"
   ]
  },
  {
   "cell_type": "code",
   "execution_count": 7,
   "id": "3319bdea-4cc2-4b2b-9fb6-e70f3cdec0ca",
   "metadata": {},
   "outputs": [
    {
     "name": "stdout",
     "output_type": "stream",
     "text": [
      "A sequential array with a negative step:\n",
      " [10  8  6  4  2]\n",
      "Elements at these indices are:\n",
      " [4 8 6]\n"
     ]
    }
   ],
   "source": [
    "# Array Indexing\n",
    "a = np.arange(10, 1, -2)\n",
    "print(\"A sequential array with a negative step:\\n\", a)\n",
    "newarr = a[np.array([3, 1, 2])]\n",
    "# np.array([3, 1, 2]): Creates a 1D NumPy array containing the indices [3, 1, 2]\n",
    "print(\"Elements at these indices are:\\n\", newarr)"
   ]
  },
  {
   "cell_type": "code",
   "execution_count": 8,
   "id": "0801f437-d8b6-40a4-97dc-edf15dcaae0d",
   "metadata": {},
   "outputs": [
    {
     "name": "stdout",
     "output_type": "stream",
     "text": [
      "Array is:\n",
      "a[-8:17:1] =  [12 13 14 15 16]\n",
      "a[10:] =  [10 11 12 13 14 15 16 17 18 19]\n"
     ]
    }
   ],
   "source": [
    "# Array Slicing\n",
    "a = np.arange(20)\n",
    "print(\"Array is:\")\n",
    "print(\"a[-8:17:1] = \", a[-8:17:1])\n",
    "# -8: Start index, 17: End index, 1: Step size.\n",
    "print(\"a[10:] = \", a[10:])"
   ]
  },
  {
   "cell_type": "code",
   "execution_count": 9,
   "id": "3e4ddabd-75e3-4348-8ec6-c4c7dbecb207",
   "metadata": {},
   "outputs": [
    {
     "name": "stdout",
     "output_type": "stream",
     "text": [
      "[[ 2  5]\n",
      " [ 8 11]]\n"
     ]
    }
   ],
   "source": [
    "# Ellipsis Method\n",
    "b = np.array([[[1, 2, 3], [4, 5, 6]], [[7, 8, 9], [10, 11, 12]]])\n",
    "new_array = b[..., 1]\n",
    "print(new_array)"
   ]
  },
  {
   "cell_type": "code",
   "execution_count": 10,
   "id": "0def997a-435d-4ae8-8c59-36bc8681bba6",
   "metadata": {},
   "outputs": [
    {
     "name": "stdout",
     "output_type": "stream",
     "text": [
      "[2 4 6]\n"
     ]
    }
   ],
   "source": [
    "# Array Broadcasting\n",
    "# Example 1:\n",
    "a = np.array([1, 2, 3]) # shape(3,)\n",
    "b = 2 # scalar, shape()\n",
    "result = a*b\n",
    "print(result)\n",
    "# The scalar b is broadcasted to match the shape a, so it operates like: [2, 2, 2]"
   ]
  },
  {
   "cell_type": "code",
   "execution_count": 11,
   "id": "a12b45df-3eab-4c42-888e-dff04afda125",
   "metadata": {},
   "outputs": [
    {
     "name": "stdout",
     "output_type": "stream",
     "text": [
      "[[11 22 33]\n",
      " [14 25 36]]\n"
     ]
    }
   ],
   "source": [
    "# Example 2: Arrays of different shapes\n",
    "a = np.array([[1, 2, 3], [4, 5, 6]]) # shape(2, 3)\n",
    "b = np.array([10, 20, 30]) # shape(3,)\n",
    "result = a+b\n",
    "print(result)\n",
    "# The shape(3,) of b is broadcasted to (2, 3) to match a, so b is treated like: [[10, 20, 30], [10, 20, 30]]"
   ]
  },
  {
   "cell_type": "code",
   "execution_count": 12,
   "id": "221486b6-4e44-4452-ac9d-df4b5d777459",
   "metadata": {},
   "outputs": [
    {
     "name": "stdout",
     "output_type": "stream",
     "text": [
      "[[11 12 13]\n",
      " [21 22 23]]\n"
     ]
    }
   ],
   "source": [
    "# Example 3: Higher Dimensions\n",
    "a = np.array([1, 2, 3])  # Shape (3,)\n",
    "b = np.array([[10], [20]])  # Shape (2, 1)\n",
    "result = a + b\n",
    "print(result)\n",
    "# The shapes (3,) and (2, 1) are broadcasted to (2, 3)."
   ]
  },
  {
   "cell_type": "code",
   "execution_count": 13,
   "id": "a38b6ad8-8dea-4c0b-b991-84b4a32da687",
   "metadata": {},
   "outputs": [
    {
     "name": "stdout",
     "output_type": "stream",
     "text": [
      "[[  2.4   8.7  31.2]\n",
      " [157.2  70.8 292. ]\n",
      " [165.6  95.1 191.2]\n",
      " [ 43.2  33.   39.2]]\n"
     ]
    }
   ],
   "source": [
    "# With this transformation, we can now compute all kinds of useful information. \n",
    "# For example, what is the total number of calories present in some food or, \n",
    "# given a breakdown of my dinner know how many calories did I get from protein and so on.\n",
    "macros = np.array([[0.8, 2.9, 3.9], [52.4, 23.6, 36.5], [55.2, 31.7, 23.9], [14.4, 11, 4.9]])\n",
    "cal_per_macro = np.array([3, 3, 8])\n",
    "result = macros * cal_per_macro\n",
    "print(result)"
   ]
  },
  {
   "cell_type": "code",
   "execution_count": 14,
   "id": "d6ac8329-e362-4cc3-95cc-6e5253d82fe3",
   "metadata": {
    "editable": true,
    "slideshow": {
     "slide_type": ""
    },
    "tags": []
   },
   "outputs": [
    {
     "name": "stdout",
     "output_type": "stream",
     "text": [
      "[[ 540  660]\n",
      " [1080 1320]\n",
      " [1620 1980]]\n",
      "[[ 24  46  69]\n",
      " [ 57  79 102]]\n",
      "[[ 57  67  78]\n",
      " [100 110 121]]\n",
      "[[ 24  44  66]\n",
      " [ 90 110 132]]\n"
     ]
    }
   ],
   "source": [
    "v = np.array([12, 24, 36])\n",
    "w = np.array([45, 55])\n",
    "print(np.reshape(v, (3, 1))*w)\n",
    "X = np.array([[12, 22, 33], [45, 55, 66]])\n",
    "print(X+v)\n",
    "print((X.T+w).T)\n",
    "print(X*2)"
   ]
  }
 ],
 "metadata": {
  "kernelspec": {
   "display_name": "Python 3 (ipykernel)",
   "language": "python",
   "name": "python3"
  },
  "language_info": {
   "codemirror_mode": {
    "name": "ipython",
    "version": 3
   },
   "file_extension": ".py",
   "mimetype": "text/x-python",
   "name": "python",
   "nbconvert_exporter": "python",
   "pygments_lexer": "ipython3",
   "version": "3.12.3"
  }
 },
 "nbformat": 4,
 "nbformat_minor": 5
}
