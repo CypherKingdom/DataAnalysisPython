{
 "cells": [
  {
   "cell_type": "code",
   "execution_count": 1,
   "id": "3a27e744-eb87-40fc-b549-fc691df64799",
   "metadata": {
    "editable": true,
    "slideshow": {
     "slide_type": ""
    },
    "tags": []
   },
   "outputs": [],
   "source": [
    "# Syntax: filter(function, sequence) \n",
    "# function: A function that defines the condition to filter the elements. \n",
    "# This function should return True for items you want to keep and False for those you want to exclude.\n",
    "# iterable: The iterable you want to filter (e.g., list, tuple, set).\n",
    "# The result is a filter object, which can be converted into a list, tuple or another iterable type."
   ]
  },
  {
   "cell_type": "code",
   "execution_count": 2,
   "id": "73345a2f-8bdf-4bf3-aaa4-e741601effc9",
   "metadata": {},
   "outputs": [
    {
     "name": "stdout",
     "output_type": "stream",
     "text": [
      "[2, 4, 6]\n"
     ]
    }
   ],
   "source": [
    "# filters the given sequence with the help of a function that tests each element in the sequence to be true or not. \n",
    "# Function to check if a number is even\n",
    "def even(n):\n",
    "    return n % 2 == 0\n",
    "a = [1, 2, 3, 4, 5, 6]\n",
    "b = filter(even, a)\n",
    "# Convert filter object to a list            \n",
    "print(list(b))"
   ]
  },
  {
   "cell_type": "code",
   "execution_count": 3,
   "id": "d3a8fc8d-b678-4cbb-bae3-066fe1a3c9e3",
   "metadata": {},
   "outputs": [
    {
     "name": "stdout",
     "output_type": "stream",
     "text": [
      "[4, 8, 12]\n"
     ]
    }
   ],
   "source": [
    "# We can combine filter() with other Python functions like map() \n",
    "# or use it in a pipeline to process data efficiently.\n",
    "# Filtering and Transforming Data:\n",
    "a = [1, 2, 3, 4, 5, 6]\n",
    "# First, filter even numbers\n",
    "b = filter(lambda x: x % 2 == 0, a)\n",
    "# Then, double the filtered numbers\n",
    "c = map(lambda x: x * 2, b)\n",
    "print(list(c))"
   ]
  },
  {
   "cell_type": "code",
   "execution_count": 4,
   "id": "1c26dd91-fd83-41e9-8a00-cb0d46e61ace",
   "metadata": {},
   "outputs": [
    {
     "name": "stdout",
     "output_type": "stream",
     "text": [
      "['apple', 'banana', 'grape']\n"
     ]
    }
   ],
   "source": [
    "# Filter those that contain the letter \"a\"\n",
    "words = [\"apple\", \"banana\", \"cherry\", \"kiwi\", \"grape\"]\n",
    "words_with_a = list(filter(lambda word: 'a' in word, words))\n",
    "print(words_with_a)"
   ]
  },
  {
   "cell_type": "code",
   "execution_count": 5,
   "id": "8bcb8ce9-ccb1-49fc-b0c3-ff5dd68769c3",
   "metadata": {},
   "outputs": [
    {
     "name": "stdout",
     "output_type": "stream",
     "text": [
      "[2, 3, 5, 7]\n"
     ]
    }
   ],
   "source": [
    "# Filter prime numbers\n",
    "def is_prime(n):\n",
    "    if n < 2:\n",
    "        return False\n",
    "    for i in range(2, int(n**0.5) + 1):\n",
    "        if n % i == 0:\n",
    "            return False\n",
    "    return True\n",
    "numbers = [2, 3, 4, 5, 6, 7, 8, 9, 10]\n",
    "prime_numbers = list(filter(is_prime, numbers))\n",
    "print(prime_numbers)"
   ]
  },
  {
   "cell_type": "code",
   "execution_count": 6,
   "id": "906b4190-6685-445c-b026-079ef45bbf8d",
   "metadata": {},
   "outputs": [
    {
     "name": "stdout",
     "output_type": "stream",
     "text": [
      "['radar', 'level', 'refer']\n"
     ]
    }
   ],
   "source": [
    "# Filter strings that are palindromes\n",
    "words = [\"radar\", \"level\", \"hello\", \"world\", \"refer\", \"python\"]\n",
    "palindromes = list(filter(lambda word: word == word[::-1], words))\n",
    "print(palindromes)"
   ]
  }
 ],
 "metadata": {
  "kernelspec": {
   "display_name": "Python 3 (ipykernel)",
   "language": "python",
   "name": "python3"
  },
  "language_info": {
   "codemirror_mode": {
    "name": "ipython",
    "version": 3
   },
   "file_extension": ".py",
   "mimetype": "text/x-python",
   "name": "python",
   "nbconvert_exporter": "python",
   "pygments_lexer": "ipython3",
   "version": "3.12.3"
  }
 },
 "nbformat": 4,
 "nbformat_minor": 5
}
