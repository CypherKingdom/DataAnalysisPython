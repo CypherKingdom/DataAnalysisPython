{
 "cells": [
  {
   "cell_type": "code",
   "execution_count": 1,
   "id": "eca94dbd-4d29-4b42-bbfa-3b52648a3bf9",
   "metadata": {
    "editable": true,
    "slideshow": {
     "slide_type": ""
    },
    "tags": []
   },
   "outputs": [],
   "source": [
    "# Syntax: lambda arguments : expression\n",
    "# This function can have any number of arguments but only one expression, \n",
    "# which is evaluated and returned."
   ]
  },
  {
   "cell_type": "code",
   "execution_count": 2,
   "id": "5aa01509-4ac5-4c8b-81e1-39db6fc29e9f",
   "metadata": {
    "editable": true,
    "slideshow": {
     "slide_type": ""
    },
    "tags": []
   },
   "outputs": [
    {
     "name": "stdout",
     "output_type": "stream",
     "text": [
      "<function <lambda> at 0x0000026E9EC89D00>\n"
     ]
    }
   ],
   "source": [
    "# Return the type of Python lambda keyword\n",
    "string = 'Hello World'\n",
    "# lambda returns a function object\n",
    "print(lambda string: string)\n",
    "# This output indicates the memory location of the lambda function object."
   ]
  },
  {
   "cell_type": "code",
   "execution_count": 3,
   "id": "b211693b-8421-4d0b-b590-a6aaaa3e9951",
   "metadata": {
    "editable": true,
    "slideshow": {
     "slide_type": ""
    },
    "tags": []
   },
   "outputs": [
    {
     "name": "stdout",
     "output_type": "stream",
     "text": [
      "Even number\n"
     ]
    }
   ],
   "source": [
    "# Even and odd\n",
    "calc = lambda num: \"Even number\" if num%2==0 else \"Odd number\"\n",
    "print(calc(20))"
   ]
  },
  {
   "cell_type": "code",
   "execution_count": 4,
   "id": "0344917c-aa24-45a3-b16c-92d8449d6d94",
   "metadata": {
    "editable": true,
    "slideshow": {
     "slide_type": ""
    },
    "tags": []
   },
   "outputs": [
    {
     "name": "stdout",
     "output_type": "stream",
     "text": [
      "filter_nums():  Joseph \n"
     ]
    }
   ],
   "source": [
    "# Invoking lambda return value\n",
    "# Example 1:\n",
    "filter_nums = lambda s:''.join([ch for ch in s if not ch.isdigit()])\n",
    "print(\"filter_nums(): \", filter_nums(\"Joseph 19\"))"
   ]
  },
  {
   "cell_type": "code",
   "execution_count": 5,
   "id": "76128a20-b090-4b0b-96f8-541c2b06c7a4",
   "metadata": {},
   "outputs": [
    {
     "name": "stdout",
     "output_type": "stream",
     "text": [
      "do_exclaim():  I am tired!\n"
     ]
    }
   ],
   "source": [
    "# Example 2:\n",
    "do_exclaim = lambda s:s+'!'\n",
    "print(\"do_exclaim(): \", do_exclaim(\"I am tired\"))"
   ]
  },
  {
   "cell_type": "code",
   "execution_count": 6,
   "id": "0f759d8c-9284-4c8c-ab26-8b63630fbea5",
   "metadata": {},
   "outputs": [
    {
     "name": "stdout",
     "output_type": "stream",
     "text": [
      "find_sum():  6\n"
     ]
    }
   ],
   "source": [
    "# Example 3:\n",
    "find_sum = lambda n:sum([int(x) for x in str(n)])\n",
    "print(\"find_sum(): \", find_sum(123))"
   ]
  },
  {
   "cell_type": "code",
   "execution_count": 7,
   "id": "66e597d1-75ac-4b54-9e7d-772b5d69ff46",
   "metadata": {
    "editable": true,
    "slideshow": {
     "slide_type": ""
    },
    "tags": []
   },
   "outputs": [
    {
     "name": "stdout",
     "output_type": "stream",
     "text": [
      "Invoking classical function: 3, 27\n",
      "Invoking lambda function: 27\n"
     ]
    }
   ],
   "source": [
    "def cube(y):\n",
    "    print(f\"{y}, \", end='')\n",
    "    return y**3 # Or return y*y*y\n",
    "lambda_cube = lambda num:num**3\n",
    "# Invoking simple function\n",
    "print(\"Invoking classical function: \", end='')\n",
    "print(cube(3))\n",
    "# Invoking lambda function\n",
    "print(\"Invoking lambda function: \" + str(lambda_cube(3)))"
   ]
  },
  {
   "cell_type": "code",
   "execution_count": 8,
   "id": "05d242e0-3088-4178-9051-347825d77a4c",
   "metadata": {
    "editable": true,
    "slideshow": {
     "slide_type": ""
    },
    "tags": []
   },
   "outputs": [
    {
     "name": "stdout",
     "output_type": "stream",
     "text": [
      "Sorted numerically: ['-2', '-1', '0', '1', '2', '9']\n",
      "Filtered positive even numbers: ['1', '9', '0', '-1', '-2']\n",
      "Operation on each item using lambda and map() ['11', '12', '19', '10', '9', '8']\n"
     ]
    }
   ],
   "source": [
    "# Lambda is more helpful when used inside a function. inside map(), filter(), sorted(), ...\n",
    "l = [\"1\", \"2\", \"9\", \"0\", \"-1\", \"-2\"]\n",
    "# Sort list[str] numerically using sorted() and custom sorting key using lambda\n",
    "print(\"Sorted numerically:\",  sorted(l, key=lambda x: int(x)))\n",
    "\n",
    "# Filter out positive even numbers using filter() and lambda function\n",
    "print(\"Filtered positive even numbers:\", list(filter(lambda x: not (int(x) % 2 == 0 and int(x) > 0), l)))\n",
    "\n",
    "# Added 10 to each item after type and casting to int, then convert items to string again\n",
    "print(\"Operation on each item using lambda and map()\", list(map(lambda x: str(int(x) + 10), l)))"
   ]
  },
  {
   "cell_type": "code",
   "execution_count": 9,
   "id": "58d1961c-d395-45c2-9a44-47512a894a97",
   "metadata": {},
   "outputs": [
    {
     "name": "stdout",
     "output_type": "stream",
     "text": [
      "[[6, 7, 8, 9]]\n"
     ]
    }
   ],
   "source": [
    "# Filter out the sub-lists whose sum is greater than 10\n",
    "data = [[1, 2, 3], [4, 5], [6, 7, 8, 9]]\n",
    "filtered_data = list(filter(lambda x: sum(x) > 10, data))\n",
    "print(filtered_data)"
   ]
  },
  {
   "cell_type": "code",
   "execution_count": 10,
   "id": "18cbe8c8-d801-4acd-9b13-6c496d0e38f3",
   "metadata": {},
   "outputs": [
    {
     "name": "stdout",
     "output_type": "stream",
     "text": [
      "[('Charlie', 95), ('Alice', 88), ('Bob', 75)]\n"
     ]
    }
   ],
   "source": [
    "# Sort the list based on the second element (the scores) in descending order\n",
    "students = [(\"Alice\", 88), (\"Bob\", 75), (\"Charlie\", 95)]\n",
    "sorted_students = sorted(students, key=lambda x: x[1], reverse=True)\n",
    "print(sorted_students)"
   ]
  },
  {
   "cell_type": "code",
   "execution_count": 11,
   "id": "5d7fd5a2-8aa4-422b-ac01-5f4b09f21ef6",
   "metadata": {},
   "outputs": [
    {
     "name": "stdout",
     "output_type": "stream",
     "text": [
      "[1, 4, 27, 16]\n"
     ]
    }
   ],
   "source": [
    "# Used with map() to create a new list where each element is the square if it's even and the cube if it's odd\n",
    "numbers = [1, 2, 3, 4]\n",
    "transformed_numbers = list(map(lambda x: x**2 if x % 2 == 0 else x**3, numbers))\n",
    "print(transformed_numbers)"
   ]
  },
  {
   "cell_type": "code",
   "execution_count": 12,
   "id": "34ba2f00-9e96-480a-8612-cbe27794e4e6",
   "metadata": {},
   "outputs": [
    {
     "name": "stdout",
     "output_type": "stream",
     "text": [
      "{'a': 1, 'b': 3, 'c': 4}\n"
     ]
    }
   ],
   "source": [
    "# Merging dictionaries, if a key exists in both, keep the maximum value\n",
    "dict1 = {'a': 1, 'b': 2}\n",
    "dict2 = {'b': 3, 'c': 4}\n",
    "merged_dict = {key: (lambda x, y: max(x, y) if x and y else x or y)(dict1.get(key), dict2.get(key)) \n",
    "               for key in set(dict1) | set(dict2)}\n",
    "print(merged_dict)"
   ]
  }
 ],
 "metadata": {
  "kernelspec": {
   "display_name": "Python 3 (ipykernel)",
   "language": "python",
   "name": "python3"
  },
  "language_info": {
   "codemirror_mode": {
    "name": "ipython",
    "version": 3
   },
   "file_extension": ".py",
   "mimetype": "text/x-python",
   "name": "python",
   "nbconvert_exporter": "python",
   "pygments_lexer": "ipython3",
   "version": "3.12.3"
  }
 },
 "nbformat": 4,
 "nbformat_minor": 5
}
