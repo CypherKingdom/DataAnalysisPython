{
 "cells": [
  {
   "cell_type": "code",
   "execution_count": null,
   "id": "837fa9de-84db-46d1-ada9-c7809bf3681d",
   "metadata": {},
   "outputs": [],
   "source": [
    "# Synatx: {key: value for (key, value) in iterable}"
   ]
  },
  {
   "cell_type": "code",
   "execution_count": 1,
   "id": "8005c775-bbd9-4463-bfce-ac3406ab7710",
   "metadata": {
    "editable": true,
    "slideshow": {
     "slide_type": ""
    },
    "tags": []
   },
   "outputs": [
    {
     "name": "stdout",
     "output_type": "stream",
     "text": [
      "{'a': 1, 'b': 2, 'c': 3, 'd': 4, 'e': 5}\n"
     ]
    }
   ],
   "source": [
    "# Lists to represent keys and values\n",
    "keys = ['a', 'b', 'c', 'd', 'e']\n",
    "values1 = [1, 2, 3, 4, 5]\n",
    "\n",
    "# Method 1:\n",
    "myDict = {k:v for (k, v) in zip(keys, values1)}\n",
    "print(myDict)"
   ]
  },
  {
   "cell_type": "code",
   "execution_count": 2,
   "id": "7d753bb2-9ee8-4b8f-8f39-c85598aa339c",
   "metadata": {},
   "outputs": [
    {
     "name": "stdout",
     "output_type": "stream",
     "text": [
      "{'a': 1, 'b': 2, 'c': 3, 'd': 4, 'e': 5}\n"
     ]
    }
   ],
   "source": [
    "keys = ['a', 'b', 'c', 'd', 'e']\n",
    "values1 = [1, 2, 3, 4, 5]\n",
    "\n",
    "# Method 2:\n",
    "myDict = dict(zip(keys, values1))\n",
    "print(myDict)"
   ]
  },
  {
   "cell_type": "code",
   "execution_count": 3,
   "id": "54b0a1b0-edbb-4dd2-9147-c45af342d257",
   "metadata": {},
   "outputs": [
    {
     "name": "stdout",
     "output_type": "stream",
     "text": [
      "{'a': {1: 6}, 'b': {2: 7}, 'c': {3: 8}, 'd': {4: 9}, 'e': {5: 10}}\n"
     ]
    }
   ],
   "source": [
    "keys = ['a', 'b', 'c', 'd', 'e']\n",
    "values1 = [1, 2, 3, 4, 5]\n",
    "values2 = [6, 7, 8, 9, 10]\n",
    "\n",
    "# Method 3:\n",
    "myDict = {k:{v:l} for (k, v, l) in zip(keys, values1, values2)}\n",
    "print(myDict)\n",
    "\n",
    "# The zip() function takes two (or more) iterables (like lists) and returns an iterator of tuples, \n",
    "# where the i-th tuple contains the i-th element from each of the input iterables"
   ]
  },
  {
   "cell_type": "code",
   "execution_count": 15,
   "id": "f43738b3-c80c-4641-bc85-afb7103a4529",
   "metadata": {},
   "outputs": [
    {
     "name": "stdout",
     "output_type": "stream",
     "text": [
      "{0: True, 1: True, 2: True, 3: True, 4: True}\n"
     ]
    }
   ],
   "source": [
    "# Using fromkeys()\n",
    "dic = dict.fromkeys(range(5), True)\n",
    "print(dic)\n",
    "# fromkeys() returns a dictionary with specific keys and values."
   ]
  },
  {
   "cell_type": "code",
   "execution_count": 4,
   "id": "c9895c5c-58f4-4dd7-a143-d3ed3064516f",
   "metadata": {},
   "outputs": [
    {
     "name": "stdout",
     "output_type": "stream",
     "text": [
      "{1: 1, 2: 4, 3: 9, 4: 16, 5: 25}\n"
     ]
    }
   ],
   "source": [
    "# Creation using list comprehension\n",
    "# Example 1:\n",
    "myDict = {x:x**2 for x in [1, 2, 3, 4, 5]}\n",
    "print(myDict)"
   ]
  },
  {
   "cell_type": "code",
   "execution_count": 5,
   "id": "9584f792-5373-4d62-9db2-89044791530f",
   "metadata": {},
   "outputs": [
    {
     "name": "stdout",
     "output_type": "stream",
     "text": [
      "{1: 1, 2: 4, 3: 9, 4: 16, 5: 25}\n"
     ]
    }
   ],
   "source": [
    "# Method 2:\n",
    "myDict = {x+1:(x+1)**2 for x in range(5)}\n",
    "print(myDict)"
   ]
  },
  {
   "cell_type": "code",
   "execution_count": 6,
   "id": "79c33abd-1380-4126-9769-67eb6f6d97c3",
   "metadata": {},
   "outputs": [
    {
     "name": "stdout",
     "output_type": "stream",
     "text": [
      "{'C': 'ccc', 'O': 'ooo', 'D': 'ddd', 'I': 'iii', 'N': 'nnn', 'G': 'ggg', ' ': '   '}\n"
     ]
    }
   ],
   "source": [
    "# Example 2\n",
    "myDict = {x.upper():x*3 for x in 'coding '}\n",
    "print(myDict)"
   ]
  },
  {
   "cell_type": "code",
   "execution_count": 7,
   "id": "05750013-5656-48aa-92ee-da23916af9fc",
   "metadata": {},
   "outputs": [
    {
     "name": "stdout",
     "output_type": "stream",
     "text": [
      "{'C': 'ccc', 'O': 'ooo', 'D': 'ddd', 'I': 'iii', 'N': 'nnn', 'G': 'ggg', ' ': '   '}\n"
     ]
    }
   ],
   "source": [
    "# Method 2:\n",
    "myDict = {x.upper():x*3 for x in 'cooding '}\n",
    "print(myDict)"
   ]
  },
  {
   "cell_type": "code",
   "execution_count": 8,
   "id": "b3b0f261-5b4f-4ba1-babc-f465c881163c",
   "metadata": {},
   "outputs": [
    {
     "name": "stdout",
     "output_type": "stream",
     "text": [
      "{0: 0, 2: 8, 4: 64, 6: 216, 8: 512}\n"
     ]
    }
   ],
   "source": [
    "myDict = {x:x**3 for x in range(10) if x**3%4==0}\n",
    "print(myDict)"
   ]
  },
  {
   "cell_type": "code",
   "execution_count": 9,
   "id": "ed34b718-8701-40d6-af03-d88dae66b17f",
   "metadata": {},
   "outputs": [
    {
     "name": "stdout",
     "output_type": "stream",
     "text": [
      "{'G': {'G': 'GG', 'F': 'GF'}, 'F': {'G': 'FG', 'F': 'FF'}}\n"
     ]
    }
   ],
   "source": [
    "# Nested dictionary\n",
    "l=\"GFG\"\n",
    "myDict = {x:{y:x+y for y in l} for x in l}\n",
    "print(myDict)"
   ]
  },
  {
   "cell_type": "code",
   "execution_count": 10,
   "id": "e5816eeb-6baa-4574-a5ed-ea2935b9bee8",
   "metadata": {},
   "outputs": [
    {
     "name": "stdout",
     "output_type": "stream",
     "text": [
      "{1: 'a', 2: 'b', 3: 'c', 4: 'd', 5: 'e'}\n"
     ]
    }
   ],
   "source": [
    "# Swaping keys and values\n",
    "myDict = {'a':1, 'b':2, 'c':3, 'd':4, 'e':5}\n",
    "newDict = {x:y for y, x in myDict.items()}\n",
    "print(newDict)"
   ]
  },
  {
   "cell_type": "code",
   "execution_count": 11,
   "id": "47fc68df-2393-43a6-b7f2-9e28e8e0467c",
   "metadata": {},
   "outputs": [
    {
     "name": "stdout",
     "output_type": "stream",
     "text": [
      "{'a': 8, 'd': 2, 'i': 2, 'l': 2, 'f': 4, 'g': 1, 'o': 2, 'e': 3, 'h': 3, 's': 1, 'n': 1, 'j': 1, 'k': 1}\n"
     ]
    }
   ],
   "source": [
    "# Counting Occurences:\n",
    "s = \"adilfgaoefieahfaasnodhlajkfhaea\"\n",
    "myDict = {c:s.count(c) for c in s}\n",
    "print(myDict)"
   ]
  },
  {
   "cell_type": "code",
   "execution_count": 12,
   "id": "fcec6229-5e30-48d5-98a0-8aed94b5c225",
   "metadata": {},
   "outputs": [
    {
     "name": "stdout",
     "output_type": "stream",
     "text": [
      "{1: 'odd', 2: 'even', 3: 'odd', 4: 'even', 5: 'odd', 6: 'even', 7: 'odd', 8: 'even', 9: 'odd', 10: 'even'}\n"
     ]
    }
   ],
   "source": [
    "# Even and odd\n",
    "myDict = {c+1:\"even\" if (c+1)%2==0 else \"odd\" for c in range(10)}\n",
    "print(myDict)\n",
    "# Syntax: value_if_true if condition else value_if_false"
   ]
  },
  {
   "cell_type": "code",
   "execution_count": 13,
   "id": "2e943c54-e965-4c74-8eff-2267f5c2c333",
   "metadata": {},
   "outputs": [
    {
     "name": "stdout",
     "output_type": "stream",
     "text": [
      "{1: 'odd', 2: 'even', 3: 'odd', 4: 'even', 5: 'odd', 6: 'even', 7: 'odd', 8: 'even', 9: 'odd', 10: 'even'}\n"
     ]
    }
   ],
   "source": [
    "# Method 2:\n",
    "myDict = {c+1:(\"odd\", \"even\")[(c+1)%2==0] for c in range(10)}\n",
    "print(myDict)\n",
    "# Syntax: (condition_is_false, condition_is_true)[condition]"
   ]
  },
  {
   "cell_type": "code",
   "execution_count": 14,
   "id": "230caeb9-03ce-49c7-ada6-76f80106dfb0",
   "metadata": {},
   "outputs": [
    {
     "name": "stdout",
     "output_type": "stream",
     "text": [
      "{'Alice': {'Math': 0, 'Physics': 0, 'Chemistry': 0}, 'Bob': {'Math': 0, 'Physics': 0, 'Chemistry': 0}, 'Charlie': {'Math': 0, 'Physics': 0, 'Chemistry': 0}}\n"
     ]
    }
   ],
   "source": [
    "# Students, subjects and grades\n",
    "students = [\"Alice\", \"Bob\", \"Charlie\"]\n",
    "subjects = [\"Math\", \"Physics\", \"Chemistry\"]\n",
    "myDict = {student:{subject:0 for subject in subjects} for student in students}\n",
    "print(myDict)"
   ]
  }
 ],
 "metadata": {
  "kernelspec": {
   "display_name": "Python 3 (ipykernel)",
   "language": "python",
   "name": "python3"
  },
  "language_info": {
   "codemirror_mode": {
    "name": "ipython",
    "version": 3
   },
   "file_extension": ".py",
   "mimetype": "text/x-python",
   "name": "python",
   "nbconvert_exporter": "python",
   "pygments_lexer": "ipython3",
   "version": "3.12.3"
  }
 },
 "nbformat": 4,
 "nbformat_minor": 5
}
