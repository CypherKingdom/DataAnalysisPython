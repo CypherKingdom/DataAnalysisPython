{
 "cells": [
  {
   "cell_type": "code",
   "execution_count": 1,
   "id": "3f0cf3e5-22b5-4db3-9071-12ff270e268a",
   "metadata": {},
   "outputs": [],
   "source": [
    "# Syntax: map(function, iterable)\n",
    "# function: The function we want to apply to every element of the iterable.\n",
    "# iterable: The iterable whose elements we want to process."
   ]
  },
  {
   "cell_type": "code",
   "execution_count": 2,
   "id": "be638cee-66e7-4264-bc4c-e506971c17a5",
   "metadata": {},
   "outputs": [
    {
     "name": "stdout",
     "output_type": "stream",
     "text": [
      "[1, 2, 3, 4]\n"
     ]
    }
   ],
   "source": [
    "# Used to apply a given function to every item of an iterable, \n",
    "# such as a list or tuple, and returns a map object (which is an iterator).\n",
    "s = ['1', '2', '3', '4']\n",
    "res = map(int, s)\n",
    "print(list(res))"
   ]
  },
  {
   "cell_type": "code",
   "execution_count": 3,
   "id": "20ca6fa0-a38d-41c6-bb54-26afe6b87871",
   "metadata": {},
   "outputs": [
    {
     "name": "stdout",
     "output_type": "stream",
     "text": [
      "[2, 4, 6, 8]\n"
     ]
    }
   ],
   "source": [
    "# By default, map() function returns a map object, which is an iterator. \n",
    "# In many cases, we will need to convert this iterator to a list to work with the results directly.\n",
    "a = [1, 2, 3, 4]\n",
    "# Using custom function in \"function\" parameter\n",
    "# This function simply doubles the provided number\n",
    "def double(val):\n",
    "  return val*2\n",
    "res = list(map(double, a))\n",
    "print(res)                         "
   ]
  },
  {
   "cell_type": "code",
   "execution_count": 4,
   "id": "f8d88792-43a8-4cdf-9142-05c64ee1b76e",
   "metadata": {},
   "outputs": [
    {
     "name": "stdout",
     "output_type": "stream",
     "text": [
      "[2, 4, 6, 8]\n"
     ]
    }
   ],
   "source": [
    "# Using lambda function in \"function\" parameter\n",
    "# to double each number in the list\n",
    "a = [1, 2, 3, 4]\n",
    "res = list(map(lambda x: x * 2, a))\n",
    "print(res)"
   ]
  },
  {
   "cell_type": "code",
   "execution_count": 5,
   "id": "48f769a9-91cb-4954-b8dd-e417894b104b",
   "metadata": {},
   "outputs": [
    {
     "name": "stdout",
     "output_type": "stream",
     "text": [
      "[5, 7, 9]\n"
     ]
    }
   ],
   "source": [
    "# Using map with multiple iterables\n",
    "# We can use map() with multiple iterables if the function we \n",
    "# are applying takes more than one argument.\n",
    "a = [1, 2, 3]\n",
    "b = [4, 5, 6]\n",
    "res = map(lambda x, y: x + y, a, b)\n",
    "print(list(res))                  "
   ]
  },
  {
   "cell_type": "code",
   "execution_count": 6,
   "id": "f7403730-0d1e-49a4-80d0-3630cfe1a720",
   "metadata": {},
   "outputs": [
    {
     "name": "stdout",
     "output_type": "stream",
     "text": [
      "['APPLE', 'BANANA', 'CHERRY']\n"
     ]
    }
   ],
   "source": [
    "# Converting to uppercase\n",
    "fruits = ['apple', 'banana', 'cherry']\n",
    "res = map(str.upper, fruits)\n",
    "print(list(res))"
   ]
  },
  {
   "cell_type": "code",
   "execution_count": 7,
   "id": "98d8c9cf-c42a-44f7-a048-025aea55b298",
   "metadata": {},
   "outputs": [
    {
     "name": "stdout",
     "output_type": "stream",
     "text": [
      "['a', 'b', 'c']\n"
     ]
    }
   ],
   "source": [
    "# Extracting first character from strings\n",
    "words = ['apple', 'banana', 'cherry']\n",
    "res = map(lambda s: s[0], words)\n",
    "print(list(res))"
   ]
  },
  {
   "cell_type": "code",
   "execution_count": 8,
   "id": "7841d97d-15ed-482d-aeb4-148d29a61403",
   "metadata": {},
   "outputs": [
    {
     "name": "stdout",
     "output_type": "stream",
     "text": [
      "['hello', 'world', 'python']\n"
     ]
    }
   ],
   "source": [
    "# Removing whitespaces from strings\n",
    "s = ['  hello  ', '  world ', ' python  ']\n",
    "res = map(str.strip, s)\n",
    "print(list(res))"
   ]
  },
  {
   "cell_type": "code",
   "execution_count": 9,
   "id": "222a9aa3-31be-467f-94ad-6c833c9ec10d",
   "metadata": {},
   "outputs": [
    {
     "name": "stdout",
     "output_type": "stream",
     "text": [
      "[32.0, 68.0, 98.6, 212.0]\n"
     ]
    }
   ],
   "source": [
    "# Calculate fahrenheit from Celsius\n",
    "celsius = [0, 20, 37, 100]\n",
    "fahrenheit = map(lambda c: (c * 9/5) + 32, celsius)\n",
    "print(list(fahrenheit))"
   ]
  }
 ],
 "metadata": {
  "kernelspec": {
   "display_name": "Python 3 (ipykernel)",
   "language": "python",
   "name": "python3"
  },
  "language_info": {
   "codemirror_mode": {
    "name": "ipython",
    "version": 3
   },
   "file_extension": ".py",
   "mimetype": "text/x-python",
   "name": "python",
   "nbconvert_exporter": "python",
   "pygments_lexer": "ipython3",
   "version": "3.12.3"
  }
 },
 "nbformat": 4,
 "nbformat_minor": 5
}
