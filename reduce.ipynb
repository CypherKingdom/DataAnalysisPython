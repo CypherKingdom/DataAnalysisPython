{
 "cells": [
  {
   "cell_type": "code",
   "execution_count": 1,
   "id": "1ac935c1-fdd7-4f46-bae0-3b24375e941c",
   "metadata": {},
   "outputs": [],
   "source": [
    "# Syntax: functools.reduce(function, iterable[, initializer])\n",
    "# function: A function that takes two arguments and performs an operation on them.\n",
    "# iterable: An iterable whose elements are processed by the function.\n",
    "# initializer (optional): A starting value for the operation. \n",
    "# If provided, it is placed before the first element in the iterable.\n",
    "# The reduce() function is part of the functools module, so you need to import it before use."
   ]
  },
  {
   "cell_type": "code",
   "execution_count": 2,
   "id": "a4959fec-3902-44dc-a8e3-2dd8128a3d55",
   "metadata": {},
   "outputs": [
    {
     "name": "stdout",
     "output_type": "stream",
     "text": [
      "15\n"
     ]
    }
   ],
   "source": [
    "# Used to apply a particular function \n",
    "# passed in its argument to all of the list elements \n",
    "# mentioned in the sequence passed along. \n",
    "# Function to add two numbers\n",
    "from functools import reduce\n",
    "def add(x, y):\n",
    "    return x + y\n",
    "a = [1, 2, 3, 4, 5]\n",
    "res = reduce(add, a)\n",
    "print(res)  "
   ]
  },
  {
   "cell_type": "code",
   "execution_count": 3,
   "id": "00e1f586-f1fa-475f-8216-a75baf157041",
   "metadata": {},
   "outputs": [
    {
     "name": "stdout",
     "output_type": "stream",
     "text": [
      "15\n"
     ]
    }
   ],
   "source": [
    "# Used with lambda function\n",
    "# Summing numbers with reduce and lambda\n",
    "a = [1, 2, 3, 4, 5]\n",
    "res = reduce(lambda x, y: x + y, a)\n",
    "print(res)                   "
   ]
  },
  {
   "cell_type": "code",
   "execution_count": 4,
   "id": "4f172cdf-a9d9-4270-b540-c9f73d3706aa",
   "metadata": {},
   "outputs": [
    {
     "name": "stdout",
     "output_type": "stream",
     "text": [
      "17\n",
      "180\n",
      "HelloDearStudents\n"
     ]
    }
   ],
   "source": [
    "# Used with operator function\n",
    "import functools\n",
    "# importing operator for operator functions\n",
    "import operator\n",
    "# initializing list\n",
    "a = [1, 3, 5, 6, 2]\n",
    "# using reduce with add to compute sum of list\n",
    "print(functools.reduce(operator.add, a))\n",
    "# using reduce with mul to compute product\n",
    "print(functools.reduce(operator.mul, a))\n",
    "# using reduce with add to concatenate string\n",
    "print(functools.reduce(operator.add, [\"Hello\", \"Dear\", \"Students\"]))"
   ]
  },
  {
   "cell_type": "code",
   "execution_count": 5,
   "id": "e2b4a7de-a58f-4ea5-bf2a-6e9c6d2b2bdd",
   "metadata": {},
   "outputs": [
    {
     "name": "stdout",
     "output_type": "stream",
     "text": [
      "[1, 3, 6, 10, 15]\n"
     ]
    }
   ],
   "source": [
    "# Difference between reduce() and accumulate()\n",
    "# The accumulate() function from the itertools module also performs cumulative operations, \n",
    "# but it returns an iterator containing intermediate results, \n",
    "# unlike reduce(), which returns a single final value.\n",
    "from itertools import accumulate\n",
    "from operator import add\n",
    "# Cumulative sum with accumulate\n",
    "a = [1, 2, 3, 4, 5]\n",
    "res = accumulate(a, add)\n",
    "print(list(res))"
   ]
  },
  {
   "cell_type": "code",
   "execution_count": null,
   "id": "bc4de6ff-e682-4852-a2c5-88d26b2beac8",
   "metadata": {},
   "outputs": [],
   "source": [
    "# Feature:          reduce():                             accumulate():\n",
    "# Return Value:     A single final value (e.g., 15).      Intermediate results (e.g., [1, 3, 6, 10, 15]).\n",
    "# Output Type:      Single value.                         Iterator.\n",
    "# Use Case:         Only the final result is needed.      Tracking cumulative steps.\n",
    "# Import:           From functools.                       From itertools."
   ]
  }
 ],
 "metadata": {
  "kernelspec": {
   "display_name": "Python 3 (ipykernel)",
   "language": "python",
   "name": "python3"
  },
  "language_info": {
   "codemirror_mode": {
    "name": "ipython",
    "version": 3
   },
   "file_extension": ".py",
   "mimetype": "text/x-python",
   "name": "python",
   "nbconvert_exporter": "python",
   "pygments_lexer": "ipython3",
   "version": "3.12.3"
  }
 },
 "nbformat": 4,
 "nbformat_minor": 5
}
