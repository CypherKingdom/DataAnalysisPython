{
 "cells": [
  {
   "cell_type": "code",
   "execution_count": 1,
   "id": "9502b484-062b-4201-a8f8-70485a557385",
   "metadata": {
    "editable": true,
    "slideshow": {
     "slide_type": ""
    },
    "tags": []
   },
   "outputs": [],
   "source": [
    "# Syntax: [expression for item in iterable if condition]\n",
    "# expression: The transformation or value to be included in the new list.\n",
    "# item: The current element taken from the iterable.\n",
    "# iterable: A sequence or collection (e.g., list, tuple, set).\n",
    "# if condition (optional): A filtering condition that decides whether the current item should be included.\n",
    "# This syntax allows us to combine iteration, modification, and conditional filtering all in one line."
   ]
  },
  {
   "cell_type": "code",
   "execution_count": 2,
   "id": "b0796e5f-1cda-4cf9-b6a2-0e793dbad64a",
   "metadata": {},
   "outputs": [
    {
     "name": "stdout",
     "output_type": "stream",
     "text": [
      "[4, 9, 16, 25]\n"
     ]
    }
   ],
   "source": [
    "# If we have a list of integers and want to create a new list containing the square of each element, \n",
    "# we can easily achieve this using list comprehension.\n",
    "a = [2,3,4,5]\n",
    "res = [val**2 for val in a]\n",
    "print(res)"
   ]
  },
  {
   "cell_type": "code",
   "execution_count": 3,
   "id": "47ae58df-10d6-47cc-8d51-35bf47bfd173",
   "metadata": {},
   "outputs": [
    {
     "name": "stdout",
     "output_type": "stream",
     "text": [
      "[2, 4]\n"
     ]
    }
   ],
   "source": [
    "# List comprehensions can include conditional statements to filter or modify items based on specific criteria. \n",
    "# These conditionals help us create customized lists quickly and making the code cleaner and more efficient.\n",
    "# Suppose we want to filter all even list from the given list.\n",
    "a = [1, 2, 3, 4, 5]\n",
    "res = [val for val in a if val % 2 == 0]\n",
    "print(res)"
   ]
  },
  {
   "cell_type": "code",
   "execution_count": 4,
   "id": "76276246-9166-4fe1-8774-d20010941d06",
   "metadata": {},
   "outputs": [
    {
     "name": "stdout",
     "output_type": "stream",
     "text": [
      "['Odd', 'Even', 'Odd', 'Even', 'Odd']\n"
     ]
    }
   ],
   "source": [
    "# List Comprehension Using If-Else\n",
    "a = [1, 2, 3, 4, 5] \n",
    "# Add 'Even' for even numbers, otherwise 'Odd'\n",
    "result = ['Even' if n % 2 == 0 else 'Odd' for n in a]  \n",
    "print(result)"
   ]
  },
  {
   "cell_type": "code",
   "execution_count": 5,
   "id": "3789a9e4-624d-4879-97cf-f2a6eb73b033",
   "metadata": {},
   "outputs": [
    {
     "name": "stdout",
     "output_type": "stream",
     "text": [
      "[0, 1, 2, 3, 4, 5, 6, 7, 8, 9]\n"
     ]
    }
   ],
   "source": [
    "# Creating a list from a range\n",
    "# A simple example is creating a list of numbers from 0 to 9.\n",
    "# Creates a list of numbers from 0 to 9\n",
    "a = [i for i in range(10)]\n",
    "print(a)"
   ]
  },
  {
   "cell_type": "code",
   "execution_count": 6,
   "id": "af01f6e2-6c58-4b38-b495-09d2bb2d9c3c",
   "metadata": {},
   "outputs": [
    {
     "name": "stdout",
     "output_type": "stream",
     "text": [
      "[(0, 0), (0, 1), (0, 2), (1, 0), (1, 1), (1, 2), (2, 0), (2, 1), (2, 2)]\n"
     ]
    }
   ],
   "source": [
    "# Nested loops\n",
    "# List of tuples representing all combinations of (x, y) \n",
    "# where both x and y range from 0 to 2.\n",
    "coordinates = [(x, y) for x in range(3) for y in range(3)]\n",
    "print(coordinates)"
   ]
  },
  {
   "cell_type": "code",
   "execution_count": 7,
   "id": "2fd07fd6-f9c8-4f5b-84ce-57dc644d9106",
   "metadata": {},
   "outputs": [
    {
     "name": "stdout",
     "output_type": "stream",
     "text": [
      "[(0, 0), (1, 1), (2, 2)]\n"
     ]
    }
   ],
   "source": [
    "# Creates a list of tuples representing diagonal\n",
    "coordinates = [(x, x) for x in range(3)]\n",
    "print(coordinates)"
   ]
  },
  {
   "cell_type": "code",
   "execution_count": 8,
   "id": "7041c75d-76df-44eb-a689-f2d34b21496b",
   "metadata": {},
   "outputs": [
    {
     "name": "stdout",
     "output_type": "stream",
     "text": [
      "[1, 2, 3, 4, 5, 6, 7, 8, 9]\n"
     ]
    }
   ],
   "source": [
    "# Flattening a matrix into a list\n",
    "mat = [[1, 2, 3], [4, 5, 6], [7, 8, 9]]\n",
    "res = [val for row in mat for val in row]\n",
    "print(res)"
   ]
  },
  {
   "cell_type": "code",
   "execution_count": 9,
   "id": "b05b72f6-2465-4c7d-a9e3-ed775ce3a1ff",
   "metadata": {},
   "outputs": [
    {
     "name": "stdout",
     "output_type": "stream",
     "text": [
      "Even numbers: [2, 4, 6, 8, 10]\n"
     ]
    }
   ],
   "source": [
    "# Extract even numbers from a list\n",
    "numbers = [1, 2, 3, 4, 5, 6, 7, 8, 9, 10]\n",
    "even_numbers = [x for x in numbers if x%2==0]\n",
    "print(\"Even numbers: \" + str(even_numbers))"
   ]
  },
  {
   "cell_type": "code",
   "execution_count": 10,
   "id": "37eb11db-8ec7-46a0-a58a-0bd328d5b695",
   "metadata": {},
   "outputs": [
    {
     "name": "stdout",
     "output_type": "stream",
     "text": [
      "['apple', 'elephant']\n"
     ]
    }
   ],
   "source": [
    "# Extract words having more than 4 characters\n",
    "words = [\"apple\", \"bat\", \"car\", \"elephant\", \"dog\"]\n",
    "long_words = [word for word in words if len(word)>4]\n",
    "print(str(long_words))"
   ]
  },
  {
   "cell_type": "code",
   "execution_count": 11,
   "id": "4bcf9bc0-397a-4be1-a04e-8e27a4de425c",
   "metadata": {},
   "outputs": [
    {
     "name": "stdout",
     "output_type": "stream",
     "text": [
      "[3, 4, 5]\n"
     ]
    }
   ],
   "source": [
    "# Common elements in Two Lists\n",
    "list1 = [1, 2, 3, 4, 5]\n",
    "list2 = [3, 4, 5, 6, 7]\n",
    "common = [x for x in list1 if x in list2]\n",
    "print(common)"
   ]
  },
  {
   "cell_type": "code",
   "execution_count": 12,
   "id": "51d41078-932e-49e8-985a-a4d299f99f9b",
   "metadata": {},
   "outputs": [
    {
     "name": "stdout",
     "output_type": "stream",
     "text": [
      "['nohtyp', 'tsil', 'noisneherpmoc']\n"
     ]
    }
   ],
   "source": [
    "# Reverse each word in a list\n",
    "words = [\"python\", \"list\", \"comprehension\"]\n",
    "reversed_words = [word[::-1] for word in words]\n",
    "print(str(reversed_words))"
   ]
  },
  {
   "cell_type": "code",
   "execution_count": 13,
   "id": "859d4300-14a7-4405-aa8f-3343f24fe57e",
   "metadata": {},
   "outputs": [
    {
     "name": "stdout",
     "output_type": "stream",
     "text": [
      "['noisneherpmoc', 'tsil', 'nohtyp']\n"
     ]
    }
   ],
   "source": [
    "# Reverse each word in a reversed list\n",
    "words = [\"python\", \"list\", \"comprehension\"]\n",
    "reversed_words = [word[::-1] for word in words[::-1]]\n",
    "print(str(reversed_words))"
   ]
  }
 ],
 "metadata": {
  "kernelspec": {
   "display_name": "Python 3 (ipykernel)",
   "language": "python",
   "name": "python3"
  },
  "language_info": {
   "codemirror_mode": {
    "name": "ipython",
    "version": 3
   },
   "file_extension": ".py",
   "mimetype": "text/x-python",
   "name": "python",
   "nbconvert_exporter": "python",
   "pygments_lexer": "ipython3",
   "version": "3.12.3"
  }
 },
 "nbformat": 4,
 "nbformat_minor": 5
}
