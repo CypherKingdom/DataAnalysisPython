{
 "cells": [
  {
   "cell_type": "markdown",
   "id": "09612245",
   "metadata": {},
   "source": [
    "# Regular Expressions in Python\n",
    "\n",
    "This notebook demonstrates the usage of the `re` module in Python, which provides regular expression matching operations."
   ]
  },
  {
   "cell_type": "code",
   "execution_count": null,
   "id": "8b8c9ff8",
   "metadata": {},
   "outputs": [],
   "source": [
    "import re"
   ]
  },
  {
   "cell_type": "markdown",
   "id": "ed70f332",
   "metadata": {},
   "source": [
    "## Basic Search Operations\n",
    "\n",
    "Here we search for a pattern in a string and get its position."
   ]
  },
  {
   "cell_type": "code",
   "execution_count": null,
   "id": "0bcc42f0",
   "metadata": {},
   "outputs": [],
   "source": [
    "# Here we don't have a pattern, we are just looking if where the string is inside s\n",
    "s = \"AbbbbAbbbbAbbb:A computer science portal for aaaaa\"\n",
    "# Search for the word \"portal\" in the given string and then print the start and end indices of the matched word within the string.\n",
    "# r character (r'portal') stands for raw, not regex. The raw string is slightly different from a regular string, it won't interpret the \\ character as an escape character.\n",
    "\n",
    "match = re.search(r'portal', s)\n",
    "print('Start Index: ', match.start())\n",
    "print('End Index: ', match.end())"
   ]
  },
  {
   "cell_type": "markdown",
   "id": "e6c439b2",
   "metadata": {},
   "source": [
    "## Common Regular Expression Functions\n",
    "\n",
    "Here are the commonly used regex functions:\n",
    "\n",
    "- `re.findall()`: Finds and returns all non-overlapping (meaning that they don't have an intersection) matching occurrences in a list\n",
    "- `re.compile()`: Regular expressions are compiled into pattern objects\n",
    "- `re.split()`: Split the string by the occurrences of a character or a pattern\n",
    "- `re.sub()`: Replaces all occurrences of a pattern with a string\n",
    "- `re.escape()`: Escapes special characters\n",
    "- `re.search()`: Finds the first occurrence of a character or a pattern"
   ]
  },
  {
   "cell_type": "code",
   "execution_count": null,
   "id": "881d0e65",
   "metadata": {},
   "outputs": [],
   "source": [
    "string = \"\"\"Hello my Number is 123456789 and\n",
    "            my friend's number is 987654321\"\"\"\n",
    "regex = '\\d+'\n",
    "\n",
    "# \\ escape\n",
    "# \\d digit\n",
    "# \\d+ sequence of digits\n",
    "# d\\* possible 0 digits\n",
    "match = re.findall(regex, string)\n",
    "print(match)"
   ]
  },
  {
   "cell_type": "markdown",
   "id": "eb4eec17",
   "metadata": {},
   "source": [
    "## Character Classes\n",
    "\n",
    "Regular expressions provide a way to match specific sets of characters."
   ]
  },
  {
   "cell_type": "code",
   "execution_count": null,
   "id": "987ad995",
   "metadata": {},
   "outputs": [],
   "source": [
    "p = re.compile('[a-e]')\n",
    "# It matches all the characters between a and e\n",
    "print(p.findall(\"Aye, said Mr. Gibeeeenson Startk\"))\n",
    "# It starts from left to right, and it returns the list accordingly"
   ]
  },
  {
   "cell_type": "code",
   "execution_count": null,
   "id": "ee587460",
   "metadata": {},
   "outputs": [],
   "source": [
    "p = re.compile('\\d')\n",
    "# Find all one singular digit\n",
    "print(p.findall(\"I went to him at 11 A.M. on 4th july 1886\"))\n",
    "p = re.compile('\\d+')\n",
    "# Find all sequence of digits\n",
    "print(p.findall(\"I went to him at 11 A.M. on 4th July 1886\"))"
   ]
  },
  {
   "cell_type": "markdown",
   "id": "32ef0e6c",
   "metadata": {},
   "source": [
    "## Word Characters\n",
    "\n",
    "`\\w` matches any alphanumeric character (letters, digits, and underscore).\n",
    "`\\W` matches any non-alphanumeric character."
   ]
  },
  {
   "cell_type": "code",
   "execution_count": null,
   "id": "a861e71b",
   "metadata": {},
   "outputs": [],
   "source": [
    "# By default it takes raw\n",
    "p = re.compile('\\w')\n",
    "# Single character (things that can be used in a variable)\n",
    "\n",
    "print(p.findall(\"He said * in some_lang.\")) \n",
    "p = re.compile('\\w+')\n",
    "# Successive characters\n",
    "print(p.findall('I went to him at 11 A.M., he \\\n",
    "                said *** in some_language'))\n",
    "p = re.compile('\\W')\n",
    "# Everything that cannot be used in a variable name\n",
    "print(p.findall(\"he said *** in some_language.\"))"
   ]
  },
  {
   "cell_type": "code",
   "execution_count": null,
   "id": "94257a03",
   "metadata": {},
   "outputs": [],
   "source": [
    "p = re.compile('ab*')\n",
    "print(p.findall(\"ababbaabbb\"))\n",
    "# 'ab*' matches 'a' followed by zero or more 'b's"
   ]
  },
  {
   "cell_type": "markdown",
   "id": "d6a9deda-bb75-4003-b834-55634784e483",
   "metadata": {},
   "source": [
    "## Split Function\n",
    "\n",
    "The `re.split()` function splits a string by the occurrences of a pattern.\n",
    "\n",
    "Syntax:\n",
    "```python\n",
    "re.split(pattern, string, maxsplit=0, flags=0)\n",
    "```\n",
    "\n",
    "- `maxsplit` is the number of times we want the code to split the string\n",
    "- `flags` are used to ignore some stuff (e.g., `re.IGNORECASE` ignores case) (optional)\n",
    "- If `maxsplit` is not specified then it would work in a way such that it always splits the string according to all occurrences"
   ]
  },
  {
   "cell_type": "code",
   "execution_count": null,
   "id": "e808e195-c824-42da-89f4-9306a7b606de",
   "metadata": {},
   "outputs": [],
   "source": [
    "print(re.split('\\W+','Words, words , Words'))\n",
    "# It will split according to W+ which means successive special characters, so it will split according to (, ) and then ( , )\n",
    "print(re.split('\\W+',\"Words's words Words\"))\n",
    "# Same idea but now (') is also a special character\n",
    "print(re.split('\\W+','On 12th Jan 2016, at 11:02 AM'))\n",
    "# \\W+ | \\d+ (this is how we do or) (here it will split based on the digit too) \n",
    "# when it was W+ it took it because a digit is not considered as a special character\n",
    "print(re.split('\\d+','On 12th Jan 2016, at 11:02 AM'))\n",
    "# It will cut relative to the sequence of digits"
   ]
  },
  {
   "cell_type": "code",
   "execution_count": null,
   "id": "1a38a39b",
   "metadata": {},
   "outputs": [],
   "source": [
    "# If we limit the number of splits:\n",
    "print(re.split('\\d+','On 12th Jan 2016, at 11:02 AM',1))\n",
    "# It will split only one time\n",
    "print(re.split('[a-f]+','Aey, Bou oh boy, come here',flags=re.IGNORECASE))\n",
    "# Equivalent to (a+b+c+d+e+f)+ it will also ignore the case so it is taking into consideration also the characters that are uppercase\n",
    "print(re.split('[a-f]+','Aey, Boy oh boy, come here'))"
   ]
  },
  {
   "cell_type": "markdown",
   "id": "91e65183",
   "metadata": {},
   "source": [
    "## Sub Function\n",
    "\n",
    "The `re.sub()` function replaces occurrences of a pattern with a provided replacement.\n",
    "\n",
    "Syntax:\n",
    "```python\n",
    "re.sub(pattern, repl, string, count=0, flags=0)\n",
    "```\n",
    "\n",
    "We search for a pattern in a string and it is replaced by `repl`."
   ]
  },
  {
   "cell_type": "code",
   "execution_count": null,
   "id": "d272c6df",
   "metadata": {},
   "outputs": [],
   "source": [
    "# It will replace ub with ~* inside the string (with relation to the condition)\n",
    "print(re.sub('ub','~*', 'Subject has Uber booked already',flags=re.IGNORECASE))\n",
    "# IGNORECASE will take into consideration 2^n combinations ub Ub uB UB (4 possibilities because n = 2)\n",
    "print(re.sub('ub','~*', 'Subject has Uber booked already'))\n",
    "# Only ub\n",
    "print(re.sub('ub','~*', 'Subject has Uber booked already',count=1,flags=re.IGNORECASE))\n",
    "# It will only do it once\n",
    "print(re.sub('ub','~*', 'Subject has Uber booked already uBik',count=3,flags=re.IGNORECASE))\n",
    "# It will do it 3 times\n",
    "print(re.sub(r'\\sAND\\s','&',\"Baked Beans And Spam\",flags=re.IGNORECASE))\n",
    "# r means that it is raw, meaning that it will take symbols like \\s (which means space), so we are searching for \" AND \"\n",
    "print(re.sub(r'\\'AND\\'','&',\"Baked Beans 'And' Spam\",flags=re.IGNORECASE))"
   ]
  },
  {
   "cell_type": "markdown",
   "id": "299524f9",
   "metadata": {},
   "source": [
    "## Subn Function\n",
    "\n",
    "The `re.subn()` function is just like `sub()` but it returns a tuple with the new string and the count of replacements.\n",
    "\n",
    "Syntax:\n",
    "```python\n",
    "re.subn(pattern, repl, string, count=0, flags=0)\n",
    "```\n",
    "\n",
    "It's just like re.sub() but it returns the modified string in the first part of the tuple, and the count in the second part of the tuple"
   ]
  },
  {
   "cell_type": "code",
   "execution_count": null,
   "id": "73c62d77",
   "metadata": {},
   "outputs": [],
   "source": [
    "print(re.subn('ub','~*', 'Subject has Uber booked already',flags=re.IGNORECASE))\n",
    "t = re.sub('ub','~*', 'Subject has Uber booked already',flags=re.IGNORECASE)\n",
    "print(t)\n",
    "print(len(t))\n",
    "print(t[0])"
   ]
  },
  {
   "cell_type": "code",
   "execution_count": null,
   "id": "37763a55",
   "metadata": {},
   "outputs": [],
   "source": [
    "# Non alphanumerical (not digit and not alphabet)\n",
    "# re.escape(string) \n",
    "print(re.sub('\\W+',r'\\ ', 'This is Awesome even 1 AM'))"
   ]
  }
 ],
 "metadata": {
  "kernelspec": {
   "display_name": "Python 3 (ipykernel)",
   "language": "python",
   "name": "python3"
  },
  "language_info": {
   "codemirror_mode": {
    "name": "ipython",
    "version": 3
   },
   "file_extension": ".py",
   "mimetype": "text/x-python",
   "name": "python",
   "nbconvert_exporter": "python",
   "pygments_lexer": "ipython3",
   "version": "3.12.3"
  }
 },
 "nbformat": 4,
 "nbformat_minor": 5
}
