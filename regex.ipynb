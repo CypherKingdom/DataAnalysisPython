{
 "cells": [
  {
   "cell_type": "markdown",
   "id": "09612245",
   "metadata": {},
   "source": [
    "# Regular Expressions in Python\n",
    "\n",
    "This notebook demonstrates the usage of the `re` module in Python, which provides regular expression matching operations."
   ]
  },
  {
   "cell_type": "markdown",
   "id": "e2ceeda4-84cd-4754-a5ba-c33e8ec1eb57",
   "metadata": {},
   "source": [
    "# Introduction\n",
    "\n",
    "A Regular Expression or RegEx is a special sequence of characters that uses a search pattern to find a string or set of strings.\n",
    "\n",
    "It can detect the presence or absence of a text by matching it with a particular pattern and also can split a pattern into one or more sub-patterns. "
   ]
  },
  {
   "cell_type": "code",
   "execution_count": 1,
   "id": "8b8c9ff8",
   "metadata": {},
   "outputs": [],
   "source": [
    "import re"
   ]
  },
  {
   "cell_type": "markdown",
   "id": "ed70f332",
   "metadata": {},
   "source": [
    "## Basic Search Operations\n",
    "\n",
    "Here we search for a pattern in a string and get its position."
   ]
  },
  {
   "cell_type": "code",
   "execution_count": 2,
   "id": "0bcc42f0",
   "metadata": {},
   "outputs": [
    {
     "name": "stdout",
     "output_type": "stream",
     "text": [
      "Start Index:  34\n",
      "End Index:  40\n"
     ]
    }
   ],
   "source": [
    "# Here we don't have a pattern, we are just looking if where the string is inside s\n",
    "s = \"AbbbbAbbbbAbbb:A computer science portal for aaaaa\"\n",
    "# Search for the word \"portal\" in the given string and then print the start and end indices of the matched word within the string.\n",
    "\n",
    "match = re.search('portal', s)\n",
    "print('Start Index: ', match.start())\n",
    "print('End Index: ', match.end())"
   ]
  },
  {
   "cell_type": "markdown",
   "id": "e6c439b2",
   "metadata": {},
   "source": [
    "## Common Regular Expression Functions\n",
    "\n",
    "Here are the commonly used regex functions:\n",
    "\n",
    "- `re.findall()`: Finds and returns all non-overlapping (meaning that they don't have an intersection) matching occurrences in a list\n",
    "- `re.compile()`: Regular expressions are compiled into pattern objects\n",
    "- `re.split()`: Split the string by the occurrences of a character or a pattern\n",
    "- `re.sub()`: Replaces all occurrences of a pattern with a string\n",
    "- `re.escape()`: Escapes special characters\n",
    "- `re.search()`: Finds the first occurrence of a character or a pattern"
   ]
  },
  {
   "cell_type": "code",
   "execution_count": 3,
   "id": "881d0e65",
   "metadata": {},
   "outputs": [
    {
     "name": "stdout",
     "output_type": "stream",
     "text": [
      "['123456789', '987654321']\n"
     ]
    }
   ],
   "source": [
    "# \\ escape\n",
    "# \\d digit\n",
    "# \\d+ 1 or more digits\n",
    "# \\d* 0 or more digits\n",
    "# This code uses a regular expression (\\d+) to find all the sequences of one or more digits in the given string. \n",
    "# It searches for numeric values and stores them in a list.\n",
    "\n",
    "string = \"\"\"Hello my Number is 123456789 and\n",
    "            my friend's number is 987654321\"\"\"\n",
    "regex = r'\\d+'\n",
    "match = re.findall(regex, string)\n",
    "print(match)"
   ]
  },
  {
   "cell_type": "markdown",
   "id": "eb4eec17",
   "metadata": {},
   "source": [
    "## Character Classes\n",
    "\n",
    "Regular expressions provide a way to match specific sets of characters."
   ]
  },
  {
   "cell_type": "code",
   "execution_count": 4,
   "id": "987ad995",
   "metadata": {},
   "outputs": [
    {
     "name": "stdout",
     "output_type": "stream",
     "text": [
      "['e', 'a', 'd', 'b', 'e', 'e', 'e', 'e', 'a']\n"
     ]
    }
   ],
   "source": [
    "p = re.compile('[a-e]')\n",
    "# It matches all the characters between a and e\n",
    "print(p.findall(\"Aye, said Mr. Gibeeeenson Startk\"))\n",
    "# It starts from left to right, and it returns the list accordingly"
   ]
  },
  {
   "cell_type": "code",
   "execution_count": 5,
   "id": "ee587460",
   "metadata": {},
   "outputs": [
    {
     "name": "stdout",
     "output_type": "stream",
     "text": [
      "['1', '1', '4', '1', '8', '8', '6']\n",
      "['11', '4', '1886']\n"
     ]
    }
   ],
   "source": [
    "p = re.compile(r'\\d')\n",
    "# Find all one singular digit\n",
    "print(p.findall(\"I went to him at 11 A.M. on 4th july 1886\"))\n",
    "p = re.compile(r'\\d+')\n",
    "# Find all sequence of digits\n",
    "print(p.findall(\"I went to him at 11 A.M. on 4th July 1886\"))"
   ]
  },
  {
   "cell_type": "markdown",
   "id": "32ef0e6c",
   "metadata": {},
   "source": [
    "## Word Characters\n",
    "\n",
    "`\\w` matches any alphanumeric character (letters, digits, and underscore).\n",
    "`\\W` matches any non-alphanumeric character."
   ]
  },
  {
   "cell_type": "code",
   "execution_count": 6,
   "id": "a861e71b",
   "metadata": {},
   "outputs": [
    {
     "name": "stdout",
     "output_type": "stream",
     "text": [
      "['H', 'e', 's', 'a', 'i', 'd', 'i', 'n', 's', 'o', 'm', 'e', '_', 'l', 'a', 'n', 'g']\n",
      "['I', 'went', 'to', 'him', 'at', '11', 'A', 'M', 'he', 'said', 'in', 'some_language']\n",
      "[' ', ' ', '*', '*', '*', ' ', ' ', '.']\n"
     ]
    }
   ],
   "source": [
    "# By default it takes raw\n",
    "p = re.compile(r'\\w')\n",
    "# Single character (things that can be used in a variable)\n",
    "\n",
    "print(p.findall(\"He said * in some_lang.\")) \n",
    "p = re.compile(r'\\w+')\n",
    "# Successive characters\n",
    "print(p.findall('I went to him at 11 A.M., he \\\n",
    "                said *** in some_language'))\n",
    "p = re.compile(r'\\W')\n",
    "# Everything that cannot be used in a variable name\n",
    "print(p.findall(\"he said *** in some_language.\"))"
   ]
  },
  {
   "cell_type": "code",
   "execution_count": 7,
   "id": "94257a03",
   "metadata": {},
   "outputs": [
    {
     "name": "stdout",
     "output_type": "stream",
     "text": [
      "['ab', 'abb', 'a', 'abbb']\n"
     ]
    }
   ],
   "source": [
    "p = re.compile('ab*')\n",
    "print(p.findall(\"ababbaabbb\"))\n",
    "# 'ab*' matches 'a' followed by zero or more 'b's"
   ]
  },
  {
   "cell_type": "markdown",
   "id": "d6a9deda-bb75-4003-b834-55634784e483",
   "metadata": {},
   "source": [
    "## Split Function\n",
    "\n",
    "The `re.split()` function splits a string by the occurrences of a pattern.\n",
    "\n",
    "Syntax:\n",
    "```python\n",
    "re.split(pattern, string, maxsplit=0, flags=0)\n",
    "```\n",
    "\n",
    "- `maxsplit` is the number of times we want the code to split the string\n",
    "- `flags` are used to ignore some stuff (e.g., `re.IGNORECASE` ignores case) (optional)\n",
    "- If `maxsplit` is not specified then it would work in a way such that it always splits the string according to all occurrences"
   ]
  },
  {
   "cell_type": "code",
   "execution_count": 8,
   "id": "e808e195-c824-42da-89f4-9306a7b606de",
   "metadata": {},
   "outputs": [
    {
     "name": "stdout",
     "output_type": "stream",
     "text": [
      "['Words', 'words', 'Words']\n",
      "['Words', 's', 'words', 'Words']\n",
      "['On', '12th', 'Jan', '2016', 'at', '11', '02', 'AM']\n",
      "['On ', 'th Jan ', ', at ', ':', ' AM']\n"
     ]
    }
   ],
   "source": [
    "print(re.split(r'\\W+','Words, words , Words'))\n",
    "# It will split according to W+ which means successive special characters, so it will split according to (, ) and then ( , )\n",
    "print(re.split(r'\\W+',\"Words's words Words\"))\n",
    "# Same idea but now (') is also a special character\n",
    "print(re.split(r'\\W+','On 12th Jan 2016, at 11:02 AM'))\n",
    "# \\W+ | \\d+ (this is how we do or) (here it will split based on the digit too) \n",
    "# when it was W+ it took it because a digit is not considered as a special character\n",
    "print(re.split(r'\\d+','On 12th Jan 2016, at 11:02 AM'))\n",
    "# It will cut relative to the sequence of digits"
   ]
  },
  {
   "cell_type": "code",
   "execution_count": 9,
   "id": "1a38a39b",
   "metadata": {},
   "outputs": [
    {
     "name": "stdout",
     "output_type": "stream",
     "text": [
      "['On ', 'th Jan 2016, at 11:02 AM']\n",
      "['', 'y, ', 'ou oh ', 'oy, ', 'om', ' h', 'r', '']\n",
      "['A', 'y, Boy oh ', 'oy, ', 'om', ' h', 'r', '']\n"
     ]
    }
   ],
   "source": [
    "# If we limit the number of splits:\n",
    "print(re.split(r'\\d+','On 12th Jan 2016, at 11:02 AM',1))\n",
    "# It will split only one time\n",
    "print(re.split('[a-f]+','Aey, Bou oh boy, come here',flags=re.IGNORECASE))\n",
    "# Equivalent to (a+b+c+d+e+f)+ it will also ignore the case so it is taking into consideration also the characters that are uppercase\n",
    "print(re.split('[a-f]+','Aey, Boy oh boy, come here'))"
   ]
  },
  {
   "attachments": {},
   "cell_type": "markdown",
   "id": "91e65183",
   "metadata": {},
   "source": [
    "## Sub Function\n",
    "\n",
    "The `re.sub()` function replaces occurrences of a pattern with a provided replacement.\n",
    "\n",
    "Syntax:\n",
    "```python\n",
    "re.sub(pattern, repl, string, count=0, flags=0)\n",
    "```\n",
    "\n",
    "We search for a pattern in a string and it is replaced by `repl`.\n",
    "count checks and maintains the number of times this occurs."
   ]
  },
  {
   "cell_type": "code",
   "execution_count": 10,
   "id": "d272c6df",
   "metadata": {},
   "outputs": [
    {
     "name": "stdout",
     "output_type": "stream",
     "text": [
      "S~*ject has ~*er booked already\n",
      "S~*ject has Uber booked already\n",
      "S~*ject has Uber booked already\n",
      "S~*ject has ~*er booked already ~*ik\n",
      "Baked Beans&Spam\n",
      "Baked Beans & Spam\n"
     ]
    }
   ],
   "source": [
    "# It will replace ub with ~* inside the string (with relation to the condition)\n",
    "print(re.sub('ub','~*', 'Subject has Uber booked already',flags=re.IGNORECASE))\n",
    "# IGNORECASE will take into consideration 2^n combinations ub Ub uB UB (4 possibilities because n = 2)\n",
    "print(re.sub('ub','~*', 'Subject has Uber booked already'))\n",
    "# Only ub\n",
    "print(re.sub('ub','~*', 'Subject has Uber booked already',count=1,flags=re.IGNORECASE))\n",
    "# It will only do it once\n",
    "print(re.sub('ub','~*', 'Subject has Uber booked already uBik',count=3,flags=re.IGNORECASE))\n",
    "# It will do it 3 times\n",
    "print(re.sub(r'\\sAND\\s','&',\"Baked Beans And Spam\",flags=re.IGNORECASE))\n",
    "# r means that it is raw, meaning that it will take symbols like \\s (which means space), so we are searching for \" AND \"\n",
    "print(re.sub(r'\\'AND\\'','&',\"Baked Beans 'And' Spam\",flags=re.IGNORECASE))"
   ]
  },
  {
   "cell_type": "markdown",
   "id": "299524f9",
   "metadata": {},
   "source": [
    "## Subn Function\n",
    "\n",
    "The `re.subn()` function is just like `sub()` but it returns a tuple with the new string and the count of replacements.\n",
    "\n",
    "Syntax:\n",
    "```python\n",
    "re.subn(pattern, repl, string, count=0, flags=0)\n",
    "```\n",
    "\n",
    "It's just like re.sub() but it returns the modified string in the first part of the tuple, and the count in the second part of the tuple"
   ]
  },
  {
   "cell_type": "code",
   "execution_count": 11,
   "id": "73c62d77",
   "metadata": {},
   "outputs": [
    {
     "name": "stdout",
     "output_type": "stream",
     "text": [
      "('S~*ject has Uber booked already', 1)\n",
      "('S~*ject has ~*er booked already', 2)\n",
      "2\n",
      "S~*ject has ~*er booked already\n"
     ]
    }
   ],
   "source": [
    "print(re.subn('ub','~*', 'Subject has Uber booked already'))\n",
    "t = re.subn('ub','~*', 'Subject has Uber booked already',flags=re.IGNORECASE)\n",
    "print(t)\n",
    "print(len(t))\n",
    "print(t[0])"
   ]
  },
  {
   "attachments": {},
   "cell_type": "markdown",
   "id": "d32461f9-1f24-498b-ab3a-313b49b2eb56",
   "metadata": {},
   "source": [
    "# Escape Function\n",
    "\n",
    "The `re.escape()` function returns string with all non-alphanumerics backslashed, this is useful if you want to match an arbitrary literal string that may have regular expression metacharacters in it.\n",
    "\n",
    "Used to escape special characters in a string, making it safe to be used as a pattern in RegEx. It ensures that any characters with special meanings in RegEX are treated as literal characters."
   ]
  },
  {
   "cell_type": "code",
   "execution_count": 12,
   "id": "37763a55",
   "metadata": {},
   "outputs": [
    {
     "name": "stdout",
     "output_type": "stream",
     "text": [
      "This\\ is\\ Awesome\\ even\\ 1\\ AM\n",
      "I\\ Asked\\ what\\ is\\ this\\ \\[a\\-9\\],\\ he\\ said\\ \\\t\\ \\^WoW\n"
     ]
    }
   ],
   "source": [
    "# Non alphanumerical (not digit and not alphabet)\n",
    "# re.escape(string) \n",
    "print(re.sub(r'\\W+',r'\\ ', 'This is Awesome even 1 AM'))\n",
    "print(re.escape(\"I Asked what is this [a-9], he said \\t ^WoW\"))"
   ]
  },
  {
   "cell_type": "markdown",
   "id": "3178c14d-7822-4127-a923-9e932f7edbdc",
   "metadata": {},
   "source": [
    "# Exercises and Solutions"
   ]
  },
  {
   "attachments": {},
   "cell_type": "markdown",
   "id": "3cce1df4-1cfc-4c92-9974-c625b0322836",
   "metadata": {},
   "source": [
    "## Exercise\n",
    "\n",
    "In this specific example, it searches for a pattern that consists of a month (letters) followed by a day (digits) in the input string \"I was born on June 24\". If a match is found, it prints the full match, the month, and the day."
   ]
  },
  {
   "cell_type": "code",
   "execution_count": 13,
   "id": "b922e55b-b1a5-45c2-bed7-587c5c221933",
   "metadata": {},
   "outputs": [
    {
     "name": "stdout",
     "output_type": "stream",
     "text": [
      "Match at index 14, 21\n",
      "Full match: June 24\n",
      "Month: June\n",
      "Day: 24\n"
     ]
    }
   ],
   "source": [
    "regex = r\"([a-zA-Z]+) (\\d+)\"\n",
    "match = re.search(regex, \"I was born in June 24\")\n",
    "if match != None:\n",
    "    print (\"Match at index %s, %s\" % (match.start(), match.end()))\n",
    "    print (\"Full match: %s\" % (match.group(0)))\n",
    "    print (\"Month: %s\" % (match.group(1)))\n",
    "    print (\"Day: %s\" % (match.group(2)))\n",
    "else:\n",
    "    print (\"The regex pattern does not match.\")"
   ]
  },
  {
   "cell_type": "markdown",
   "id": "74539bb9-76b1-4e05-9e0e-7e1a8b266715",
   "metadata": {},
   "source": [
    "## 1. Extract All Email Addresses\n",
    "\n",
    "**Exercise:** Write a Python program to extract all email addresses from a given string:\n",
    "\"Contact us at support@example.com or sales@example.com.\""
   ]
  },
  {
   "cell_type": "code",
   "execution_count": 14,
   "id": "9188f043-dcd6-439d-8cea-662f8d2c0601",
   "metadata": {},
   "outputs": [
    {
     "name": "stdout",
     "output_type": "stream",
     "text": [
      "['support@example.com', 'sales@example.com']\n"
     ]
    }
   ],
   "source": [
    "import re\n",
    "\n",
    "text = \"Contact us at support@example.com or sales@example.com.\"\n",
    "emails = re.findall(r'\\b[A-Za-z0-9._%+-]+@[A-Za-z0-9.-]+\\.[A-Z|a-z]{2,}\\b', text)\n",
    "print(emails)"
   ]
  },
  {
   "cell_type": "markdown",
   "id": "21988ba8-aa0b-466b-8289-5fdd527984e7",
   "metadata": {},
   "source": [
    "**Explanation:**\n",
    "- `[A-Za-z0-9._%+-]+` matches one or more letters, numbers, or special characters before the @\n",
    "- `\\.` matches a literal dot\n",
    "- `[A-Z|a-z]{2,}` matches the TLD (like com, org, net) with at least 2 characters\n",
    "- `\\b` defines a word boundary, ensuring that we only match whole words"
   ]
  },
  {
   "cell_type": "markdown",
   "id": "1b2202b3-181d-4579-9b10-17f04c5f8ea3",
   "metadata": {},
   "source": [
    "## 2. Validate Phone Number\n",
    "\n",
    "**Exercise:** Check if a given phone number is in the format (XXX) XXX-XXXX."
   ]
  },
  {
   "cell_type": "code",
   "execution_count": 15,
   "id": "88b088b0-2717-4fa7-b7a4-26819dd4fe9b",
   "metadata": {},
   "outputs": [
    {
     "name": "stdout",
     "output_type": "stream",
     "text": [
      "Enter your phone number:  (111) 222-333\n"
     ]
    },
    {
     "name": "stdout",
     "output_type": "stream",
     "text": [
      "False\n"
     ]
    }
   ],
   "source": [
    "import re\n",
    "\n",
    "phone = input(\"Enter your phone number: \")\n",
    "pattern = r'^\\(\\d{3}\\) \\d{3}-\\d{4}$'\n",
    "match = re.match(pattern, phone)\n",
    "print(bool(match))"
   ]
  },
  {
   "cell_type": "markdown",
   "id": "acb5e71c-0a73-4028-9a2b-7af474e0ac21",
   "metadata": {},
   "source": [
    "**Explanation:**\n",
    "- `^` asserts the start of the string\n",
    "- `\\(` matches the opening parenthesis (escaped because parentheses are special in regex)\n",
    "- `\\d{3}` matches exactly 3 digits\n",
    "- ` ` matches a space\n",
    "- `$` asserts the end of the string"
   ]
  },
  {
   "cell_type": "markdown",
   "id": "dbdfaa64-a1ea-4542-b6a3-3978375f58fe",
   "metadata": {},
   "source": [
    "## 3. Find All Words Starting With \"a\"\n",
    "\n",
    "**Exercise:** Extract all words that start with the letter \"a\" from a given text."
   ]
  },
  {
   "cell_type": "code",
   "execution_count": 16,
   "id": "461e224f-1bc7-4616-b31a-98e16f63f0c1",
   "metadata": {},
   "outputs": [
    {
     "name": "stdout",
     "output_type": "stream",
     "text": [
      "Enter your text:  hello I am angelo how are you\n"
     ]
    },
    {
     "name": "stdout",
     "output_type": "stream",
     "text": [
      "['am', 'angelo', 'are']\n"
     ]
    }
   ],
   "source": [
    "import re\n",
    "\n",
    "text = input(\"Enter your text: \")\n",
    "words = re.findall(r'\\ba\\w+', text)\n",
    "print(words)"
   ]
  },
  {
   "cell_type": "markdown",
   "id": "2c891580-cc11-4cf2-b28c-3269d49cfcee",
   "metadata": {},
   "source": [
    "## 4. Replace Multiple Spaces with a Single Space\n",
    "\n",
    "**Exercise:** Replace multiple consecutive spaces with a single space."
   ]
  },
  {
   "cell_type": "code",
   "execution_count": 17,
   "id": "87de2eb6-e878-4d80-b390-3cd1e2331d18",
   "metadata": {},
   "outputs": [
    {
     "name": "stdout",
     "output_type": "stream",
     "text": [
      "Enter a text with multiple spaces:  hellaoioeab   a ifhoae  alefnpeia a  a;lke  \n"
     ]
    },
    {
     "name": "stdout",
     "output_type": "stream",
     "text": [
      "hellaoioeab a ifhoae alefnpeia a a;lke \n"
     ]
    }
   ],
   "source": [
    "import re\n",
    "\n",
    "text = input(\"Enter a text with multiple spaces: \")\n",
    "cleaned_text = re.sub(r'\\s+', ' ', text)\n",
    "print(cleaned_text)"
   ]
  },
  {
   "cell_type": "markdown",
   "id": "1c757f8a-a01f-4307-b306-ed55544b8d48",
   "metadata": {},
   "source": [
    "**Explanation:**\n",
    "- `\\s+` matches one or more whitespace characters"
   ]
  },
  {
   "cell_type": "markdown",
   "id": "e11e7db2-222e-45cc-b169-aa4d13b7a301",
   "metadata": {},
   "source": [
    "## 5. Validate a Password\n",
    "\n",
    "**Exercise:** Check if a password meets the criteria: at least one uppercase letter, at least one lowercase letter, at least one digit, and at least 8 characters."
   ]
  },
  {
   "cell_type": "code",
   "execution_count": 18,
   "id": "e62a2794-04fe-4bc0-96bd-6dae014ca455",
   "metadata": {},
   "outputs": [
    {
     "name": "stdout",
     "output_type": "stream",
     "text": [
      "Enter your password:  hello\n"
     ]
    },
    {
     "name": "stdout",
     "output_type": "stream",
     "text": [
      "False\n"
     ]
    }
   ],
   "source": [
    "import re\n",
    "\n",
    "password = input(\"Enter your password: \")\n",
    "pattern = r'^(?=.*[a-z])(?=.*[A-Z])(?=.*\\d).{8,}$'\n",
    "valid = bool(re.match(pattern, password))\n",
    "print(valid)"
   ]
  },
  {
   "cell_type": "markdown",
   "id": "9d176f09-af6a-435d-947c-195c206b4260",
   "metadata": {},
   "source": [
    "**Explanation:**\n",
    "- `(?=.*[a-z])`: Positive lookahead assertion that ensures at least one lowercase letter\n",
    "- `(?=.*[A-Z])`: Positive lookahead assertion that ensures at least one uppercase letter\n",
    "- `(?=.*\\d)`: Positive lookahead assertion that ensures at least one digit\n",
    "- `.{8,}`: Ensures the password is at least 8 characters long"
   ]
  },
  {
   "cell_type": "markdown",
   "id": "e9a7d783-ba6f-486f-931b-376a3e81ad51",
   "metadata": {},
   "source": [
    "## 6. Extract Dates from a String\n",
    "\n",
    "**Exercise:** Extract all dates in the format DD/MM/YYYY from a given text."
   ]
  },
  {
   "cell_type": "code",
   "execution_count": 19,
   "id": "8a3e4abf-a62b-4f52-b47a-cb24eea8176a",
   "metadata": {},
   "outputs": [
    {
     "name": "stdout",
     "output_type": "stream",
     "text": [
      "Enter your text:  25/04/2005\n"
     ]
    },
    {
     "name": "stdout",
     "output_type": "stream",
     "text": [
      "['25/04/2005']\n"
     ]
    }
   ],
   "source": [
    "import re\n",
    "\n",
    "text = input(\"Enter your text: \")\n",
    "dates = re.findall(r'\\b\\d{2}/\\d{2}/\\d{4}\\b', text)\n",
    "print(dates)"
   ]
  },
  {
   "cell_type": "markdown",
   "id": "24395563-c2f6-4468-90bd-48a8d8c898af",
   "metadata": {},
   "source": [
    "## 7. Validate an IPv4 Address\n",
    "\n",
    "**Exercise:** Check if a given IP address is valid."
   ]
  },
  {
   "cell_type": "code",
   "execution_count": 20,
   "id": "8509828c-0d7f-4733-992b-4d24fb2e21e3",
   "metadata": {},
   "outputs": [
    {
     "name": "stdout",
     "output_type": "stream",
     "text": [
      "Enter an IPv4 address:  192.168.100.5\n"
     ]
    },
    {
     "name": "stdout",
     "output_type": "stream",
     "text": [
      "True\n"
     ]
    }
   ],
   "source": [
    "import re\n",
    "\n",
    "ip = input(\"Enter an IPv4 address: \")\n",
    "pattern = r'^(\\d{1,3}\\.){3}\\d{1,3}$'\n",
    "valid = bool(re.match(pattern, ip))\n",
    "print(valid)"
   ]
  },
  {
   "cell_type": "markdown",
   "id": "cef95320-a553-4e2c-ba48-06e16f2f971f",
   "metadata": {},
   "source": [
    "**Explanation:**\n",
    "- `(\\d{1,3}\\.){3}` matches 3 occurrences of 1-3 digits followed by a dot\n",
    "- `\\d{1,3}` matches 1-3 digits for the last part of the IP address\n",
    "\n",
    "**Note:** This basic validation checks only the format. For complete IP validation, you should also check that each number is between 0 and 255."
   ]
  },
  {
   "cell_type": "markdown",
   "id": "0bebe99e-77e1-4190-8c0f-4a579ac79902",
   "metadata": {},
   "source": [
    "## Enhanced IPv4 Validation (Bonus)\n",
    "\n",
    "A more complete IPv4 validation that checks that each number is between 0 and 255:"
   ]
  },
  {
   "cell_type": "code",
   "execution_count": 21,
   "id": "8deb038b-26b8-4f72-9293-051c3d0ebef5",
   "metadata": {},
   "outputs": [
    {
     "name": "stdout",
     "output_type": "stream",
     "text": [
      "Enter an IPv4 address for enhanced validation:  300.100.23.3\n"
     ]
    },
    {
     "name": "stdout",
     "output_type": "stream",
     "text": [
      "False\n"
     ]
    }
   ],
   "source": [
    "import re\n",
    "\n",
    "def validate_ipv4(ip):\n",
    "    # First check the pattern\n",
    "    pattern = r'^(\\d{1,3}\\.){3}\\d{1,3}$'\n",
    "    if not re.match(pattern, ip):\n",
    "        return False\n",
    "    \n",
    "    # Check each number is between 0 and 255\n",
    "    numbers = ip.split('.')\n",
    "    for num in numbers:\n",
    "        if int(num) > 255 or (num[0] == '0' and len(num) > 1):\n",
    "            return False\n",
    "    \n",
    "    return True\n",
    "\n",
    "# Test it\n",
    "test_ip = input(\"Enter an IPv4 address for enhanced validation: \")\n",
    "print(validate_ipv4(test_ip))"
   ]
  },
  {
   "cell_type": "markdown",
   "id": "b2b055b0",
   "metadata": {},
   "source": [
    "## 8. Normalize Phone Numbers\n",
    "\n",
    "**Exercise:** You have a messy dataset containing phone numbers with different formats. Write a Python script to extract and normalize them into the format XXX-XXX-XXXX."
   ]
  },
  {
   "cell_type": "code",
   "execution_count": null,
   "id": "bbba889d",
   "metadata": {},
   "outputs": [],
   "source": [
    "import re\n",
    "text = \"Call me at (123) 456-7890 or 987-654-3210.\"\n",
    "phones = re.findall(r'\\(?(\\d{3})\\)?[-\\s]?(\\d{3})[-\\s]?(\\d{4})', text)\n",
    "normalized_phones = [\"-\".join(phone) for phone in phones]\n",
    "print(normalized_phones)"
   ]
  },
  {
   "cell_type": "markdown",
   "id": "bacea397",
   "metadata": {},
   "source": [
    "## 9. Extract Stock Prices\n",
    "\n",
    "**Exercise:** You have a financial report containing stock prices in different formats. Extract all stock prices in the format $XXX.XX, ensuring you don't mistakenly pick other numbers.\n",
    "\n",
    "Example Input: `\"The stock prices are as follows: Apple $132.45, Tesla $899.99, and Amazon $3050.89. Earnings for Q2 were 5,000,000 dollars.\"`\n",
    "\n",
    "Expected Output: `['$132.45', '$899.99', '$3050.89']`"
   ]
  },
  {
   "cell_type": "code",
   "execution_count": null,
   "id": "5ab506d0",
   "metadata": {},
   "outputs": [],
   "source": [
    "import re\n",
    "text = \"The stock prices are as follows: Apple $132.45, Tesla $899.99, and Amazon $3050.89. Earnings for Q2 were 5,000,000 dollars.\"\n",
    "stock_prices = re.findall(r'\\$\\d{1,4}\\.\\d{2}', text)\n",
    "print(stock_prices)"
   ]
  }
 ],
 "metadata": {
  "kernelspec": {
   "display_name": "Python 3 (ipykernel)",
   "language": "python",
   "name": "python3"
  },
  "language_info": {
   "codemirror_mode": {
    "name": "ipython",
    "version": 3
   },
   "file_extension": ".py",
   "mimetype": "text/x-python",
   "name": "python",
   "nbconvert_exporter": "python",
   "pygments_lexer": "ipython3",
   "version": "3.12.3"
  }
 },
 "nbformat": 4,
 "nbformat_minor": 5
}
